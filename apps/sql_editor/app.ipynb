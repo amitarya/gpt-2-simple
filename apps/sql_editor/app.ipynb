{
  "nbformat": 4,
  "nbformat_minor": 0,
  "metadata": {
    "colab": {
      "name": "app.ipynb",
      "provenance": [],
      "collapsed_sections": []
    },
    "kernelspec": {
      "name": "python3",
      "display_name": "Python 3"
    }
  },
  "cells": [
    {
      "cell_type": "markdown",
      "metadata": {
        "id": "BMlmoqezpKek"
      },
      "source": [
        "<a href=\"https://colab.research.google.com/github/amitarya/gpt-2-simple/blob/master/app.ipynb\">\n",
        "  <img src=\"https://colab.research.google.com/assets/colab-badge.svg\" alt=\"Open In Colab\"/>\n",
        "</a>"
      ]
    },
    {
      "cell_type": "code",
      "metadata": {
        "colab": {
          "base_uri": "https://localhost:8080/"
        },
        "id": "FuNNLNhbfD_X",
        "outputId": "d72e1aef-110e-4a49-c4b8-6b8de0da0345"
      },
      "source": [
        "from google.colab import drive\n",
        "drive.mount('/content/drive')"
      ],
      "execution_count": 4,
      "outputs": [
        {
          "output_type": "stream",
          "text": [
            "['Getting started.pdf', 'book_codes.zip', 'Letter.gdoc', 'Standardized Gift Letter_Interim.pdf', 'Standardized Gift Letter_Interim (1).gdoc', 'Olive West lease.gdoc', '$21000 fund Letter.gdoc', 'Untitled document (3).gdoc', 'Standardized Gift Letter_Interim.gdoc', 'Test.gdoc', 'Arya Closing Disclosure Package.pdf', 'Leardership Principles Stories.gdoc', 'Downloads', 'Poetry.gdoc', 'Untitled document (2).gdoc', 'Problems.gdoc', 'Options Exercise.gsheet', 'Architecture.gdoc', 'Colab Notebooks', '2020_Dec_8_amit arya_statement.pdf', 'image001.jpg', '2020_Dec_8_amit arya_statement.gdoc', 'Untitled spreadsheet.gsheet', 'Summary of Options (ISO).gdoc', 'ThoughtSpot Financing Model - AA - 74,858 Options.xlsx', 'Untitled0.ipynb', 'Untitled document (1).gdoc', 'Anti Patterns.gdoc', 'Machine usage.gdoc', 'S.gdoc', 'Untitled document.gdoc']\n"
          ],
          "name": "stdout"
        }
      ]
    },
    {
      "cell_type": "code",
      "metadata": {
        "id": "_tiIANERpS7y"
      },
      "source": [
        "DRIVE_MOUNT_POINT = '/content/drive'\n",
        "\n",
        "import os\n",
        "\n",
        "def get_drive_contents(path=''):\n",
        "  for i in os.listdir(os.path.join(DRIVE_MOUNT_POINT, path)):\n",
        "    yield i\n",
        "\n",
        "print ([*get_drive_contents('MyDrive')])"
      ],
      "execution_count": null,
      "outputs": []
    }
  ]
}
